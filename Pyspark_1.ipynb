{
  "nbformat": 4,
  "nbformat_minor": 0,
  "metadata": {
    "colab": {
      "provenance": []
    },
    "kernelspec": {
      "name": "python3",
      "display_name": "Python 3"
    },
    "language_info": {
      "name": "python"
    }
  },
  "cells": [
    {
      "cell_type": "code",
      "source": [
        "import findspark\n",
        "findspark.init()\n",
        "import pyspark\n",
        "from pyspark.sql import SparkSession\n",
        "\n",
        "spark = SparkSession.builder.appName(\"Pyspark_1\").getOrCreate()\n",
        "print(spark.version)"
      ],
      "metadata": {
        "colab": {
          "base_uri": "https://localhost:8080/"
        },
        "id": "nfZRoQPF6Z-I",
        "outputId": "8903314f-35bc-40a2-affa-ba2b3acc5a0d"
      },
      "execution_count": 6,
      "outputs": [
        {
          "output_type": "stream",
          "name": "stdout",
          "text": [
            "3.5.4\n"
          ]
        }
      ]
    },
    {
      "cell_type": "code",
      "source": [
        "!pip install pyspark\n",
        "!pip install findspark\n"
      ],
      "metadata": {
        "colab": {
          "base_uri": "https://localhost:8080/"
        },
        "id": "fLfN5o8H7QEK",
        "outputId": "cba3e0d1-7c3e-4e6a-9a6d-d0950f85b935"
      },
      "execution_count": 3,
      "outputs": [
        {
          "output_type": "stream",
          "name": "stdout",
          "text": [
            "Requirement already satisfied: pyspark in /usr/local/lib/python3.11/dist-packages (3.5.4)\n",
            "Requirement already satisfied: py4j==0.10.9.7 in /usr/local/lib/python3.11/dist-packages (from pyspark) (0.10.9.7)\n",
            "Collecting findspark\n",
            "  Downloading findspark-2.0.1-py2.py3-none-any.whl.metadata (352 bytes)\n",
            "Downloading findspark-2.0.1-py2.py3-none-any.whl (4.4 kB)\n",
            "Installing collected packages: findspark\n",
            "Successfully installed findspark-2.0.1\n"
          ]
        }
      ]
    },
    {
      "cell_type": "code",
      "source": [
        "data = [(1, 'Jay'), (2, 'Avi'), (3, 'Saint'), (4,'Jerome')]\n",
        "columns = ['ID', 'Name']\n",
        "df=spark.createDataFrame(data,columns)\n",
        "df.show()\n"
      ],
      "metadata": {
        "colab": {
          "base_uri": "https://localhost:8080/"
        },
        "id": "QeY7Y_lm7ogJ",
        "outputId": "88f3a755-3359-42ed-caf5-a804a5d37e17"
      },
      "execution_count": 16,
      "outputs": [
        {
          "output_type": "stream",
          "name": "stdout",
          "text": [
            "+---+------+\n",
            "| ID|  Name|\n",
            "+---+------+\n",
            "|  1|   Jay|\n",
            "|  2|   Avi|\n",
            "|  3| Saint|\n",
            "|  4|Jerome|\n",
            "+---+------+\n",
            "\n"
          ]
        }
      ]
    },
    {
      "cell_type": "code",
      "source": [
        "df.show(3)"
      ],
      "metadata": {
        "colab": {
          "base_uri": "https://localhost:8080/"
        },
        "id": "foocHEJk9KWE",
        "outputId": "7ab2083a-fd02-4e46-938d-a2d090874b23"
      },
      "execution_count": 17,
      "outputs": [
        {
          "output_type": "stream",
          "name": "stdout",
          "text": [
            "+---+-----+\n",
            "| ID| Name|\n",
            "+---+-----+\n",
            "|  1|  Jay|\n",
            "|  2|  Avi|\n",
            "|  3|Saint|\n",
            "+---+-----+\n",
            "only showing top 3 rows\n",
            "\n"
          ]
        }
      ]
    },
    {
      "cell_type": "code",
      "source": [
        "df_1=spark.read.csv('small_zipcode.csv', header=True, escape=\"\\\"\")\n",
        "df_1.show()\n",
        "df_1.count()"
      ],
      "metadata": {
        "colab": {
          "base_uri": "https://localhost:8080/"
        },
        "id": "-I6ipi5X-QtP",
        "outputId": "54c05876-d339-4a24-db73-0d59010b8bbe"
      },
      "execution_count": 21,
      "outputs": [
        {
          "output_type": "stream",
          "name": "stdout",
          "text": [
            "+---+-------+--------+-------------------+-----+----------+\n",
            "| id|zipcode|    type|               city|state|population|\n",
            "+---+-------+--------+-------------------+-----+----------+\n",
            "|  1|    704|STANDARD|               NULL|   PR|     30100|\n",
            "|  2|    704|    NULL|PASEO COSTA DEL SUR|   PR|      NULL|\n",
            "|  3|    709|    NULL|       BDA SAN LUIS|   PR|      3700|\n",
            "|  4|  76166|  UNIQUE|  CINGULAR WIRELESS|   TX|     84000|\n",
            "|  5|  76177|STANDARD|               NULL|   TX|      NULL|\n",
            "+---+-------+--------+-------------------+-----+----------+\n",
            "\n"
          ]
        },
        {
          "output_type": "execute_result",
          "data": {
            "text/plain": [
              "5"
            ]
          },
          "metadata": {},
          "execution_count": 21
        }
      ]
    },
    {
      "cell_type": "code",
      "source": [
        "x=spark.read.csv('sample.csv', header=True, escape=\"\\\"\")\n",
        "x.show()"
      ],
      "metadata": {
        "colab": {
          "base_uri": "https://localhost:8080/"
        },
        "id": "1MR_WYgHAQB1",
        "outputId": "7be8de8b-ac0f-4388-fb35-da8c8e41703a"
      },
      "execution_count": 28,
      "outputs": [
        {
          "output_type": "stream",
          "name": "stdout",
          "text": [
            "+----------+----------------+-----------------+---------+------+---------+--------+--------------+------+\n",
            "|year_month|month_of_release|   passenger_type|direction|   sex|      age|estimate|standard_error|status|\n",
            "+----------+----------------+-----------------+---------+------+---------+--------+--------------+------+\n",
            "|   2001-01|         2020-09|Long-term migrant| Arrivals|Female|0-4 years|     344|             0| Final|\n",
            "|   2001-02|         2020-09|Long-term migrant| Arrivals|Female|0-4 years|     269|             0| Final|\n",
            "|   2001-03|         2020-09|Long-term migrant| Arrivals|Female|0-4 years|     239|             0| Final|\n",
            "|   2001-04|         2020-09|Long-term migrant| Arrivals|Female|0-4 years|     233|             0| Final|\n",
            "|   2001-05|         2020-09|Long-term migrant| Arrivals|Female|0-4 years|     206|             0| Final|\n",
            "|   2001-06|         2020-09|Long-term migrant| Arrivals|Female|0-4 years|     253|             0| Final|\n",
            "|   2001-07|         2020-09|Long-term migrant| Arrivals|Female|0-4 years|     242|             0| Final|\n",
            "|   2001-08|         2020-09|Long-term migrant| Arrivals|Female|0-4 years|     255|             0| Final|\n",
            "|   2001-09|         2020-09|Long-term migrant| Arrivals|Female|0-4 years|     296|             0| Final|\n",
            "|   2001-10|         2020-09|Long-term migrant| Arrivals|Female|0-4 years|     296|             0| Final|\n",
            "|   2001-11|         2020-09|Long-term migrant| Arrivals|Female|0-4 years|     367|             0| Final|\n",
            "|   2001-12|         2020-09|Long-term migrant| Arrivals|Female|0-4 years|     385|             0| Final|\n",
            "|   2002-01|         2020-09|Long-term migrant| Arrivals|Female|0-4 years|     330|             0| Final|\n",
            "|   2002-02|         2020-09|Long-term migrant| Arrivals|Female|0-4 years|     303|             0| Final|\n",
            "|   2002-03|         2020-09|Long-term migrant| Arrivals|Female|0-4 years|     314|             0| Final|\n",
            "|   2002-04|         2020-09|Long-term migrant| Arrivals|Female|0-4 years|     259|             0| Final|\n",
            "|   2002-05|         2020-09|Long-term migrant| Arrivals|Female|0-4 years|     258|             0| Final|\n",
            "|   2002-06|         2020-09|Long-term migrant| Arrivals|Female|0-4 years|     251|             0| Final|\n",
            "|   2002-07|         2020-09|Long-term migrant| Arrivals|Female|0-4 years|     272|             0| Final|\n",
            "|   2002-08|         2020-09|Long-term migrant| Arrivals|Female|0-4 years|     323|             0| Final|\n",
            "+----------+----------------+-----------------+---------+------+---------+--------+--------------+------+\n",
            "only showing top 20 rows\n",
            "\n"
          ]
        }
      ]
    },
    {
      "cell_type": "code",
      "source": [
        "x.select('age').distinct().show()"
      ],
      "metadata": {
        "colab": {
          "base_uri": "https://localhost:8080/"
        },
        "id": "ph6U-1mnC8V4",
        "outputId": "2dbded70-931a-4441-e163-0dbd5ed06b63"
      },
      "execution_count": 36,
      "outputs": [
        {
          "output_type": "stream",
          "name": "stdout",
          "text": [
            "+-----------+\n",
            "|        age|\n",
            "+-----------+\n",
            "|35-39 years|\n",
            "|75-79 years|\n",
            "|50-54 years|\n",
            "|30-34 years|\n",
            "|  0-4 years|\n",
            "|  90+ years|\n",
            "|55-59 years|\n",
            "|      TOTAL|\n",
            "|  5-9 years|\n",
            "|80-84 years|\n",
            "|85-89 years|\n",
            "|20-24 years|\n",
            "|15-19 years|\n",
            "|40-44 years|\n",
            "|10-14 years|\n",
            "|65-69 years|\n",
            "|45-49 years|\n",
            "|60-64 years|\n",
            "|70-74 years|\n",
            "|25-29 years|\n",
            "+-----------+\n",
            "\n"
          ]
        }
      ]
    },
    {
      "cell_type": "code",
      "source": [
        "y=spark.read.csv('people-100.csv', header=True, escape=\"\\\"\")\n",
        "y.show()"
      ],
      "metadata": {
        "colab": {
          "base_uri": "https://localhost:8080/"
        },
        "id": "hJAkRcHNFcqp",
        "outputId": "ec185065-ebd0-499c-984c-7fa07c4db669"
      },
      "execution_count": 40,
      "outputs": [
        {
          "output_type": "stream",
          "name": "stdout",
          "text": [
            "+-----+---------------+----------+---------+------+--------------------+--------------------+-------------+--------------------+\n",
            "|Index|        User Id|First Name|Last Name|   Sex|               Email|               Phone|Date of birth|           Job Title|\n",
            "+-----+---------------+----------+---------+------+--------------------+--------------------+-------------+--------------------+\n",
            "|    1|88F7B33d2bcf9f5|    Shelby|  Terrell|  Male|elijah57@example.net|001-084-906-7849x...|   1945-10-26|     Games developer|\n",
            "|    2|f90cD3E76f1A9b9|   Phillip|  Summers|Female|bethany14@example...|   214.112.6044x4913|   1910-03-24|      Phytotherapist|\n",
            "|    3|DbeAb8CcdfeFC2c|  Kristine|   Travis|  Male|bthompson@example...|        277.609.7938|   1992-07-02|           Homeopath|\n",
            "|    4|A31Bee3c201ef58|   Yesenia| Martinez|  Male|kaitlinkaiser@exa...|        584.094.6111|   2017-08-03|   Market researcher|\n",
            "|    5|1bA7A3dc874da3c|      Lori|     Todd|  Male|buchananmanuel@ex...|   689-207-3558x7233|   1938-12-01|  Veterinary surgeon|\n",
            "|    6|bfDD7CDEF5D865B|      Erin|      Day|  Male| tconner@example.org|001-171-649-9856x...|   2015-10-28|Waste management ...|\n",
            "|    7|bE9EEf34cB72AF7| Katherine|     Buck|Female|conniecowan@examp...|+1-773-151-6685x4...|   1989-01-22|Intelligence analyst|\n",
            "|    8|2EFC6A4e77FaEaC|   Ricardo|   Hinton|  Male|wyattbishop@examp...|001-447-699-7998x...|   1924-03-26|      Hydrogeologist|\n",
            "|    9|baDcC4DeefD8dEB|      Dave|  Farrell|  Male| nmccann@example.net|  603-428-2429x27392|   2018-10-06|              Lawyer|\n",
            "|   10|8e4FB470FE19bF0|    Isaiah|    Downs|  Male|virginiaterrell@e...|+1-511-372-1544x8206|   1964-09-20|      Engineer, site|\n",
            "|   11|BF0BbA03C29Bb3b|    Sheila|     Ross|Female|huangcathy@exampl...|        895.881.4746|   2008-03-20|Advertising accou...|\n",
            "|   12|F738c69fB34E62E|     Stacy|   Newton|  Male|rayleroy@example.org|  710.673.3213x80335|   1980-10-20|       Warden/ranger|\n",
            "|   13|C03fDADdAadAdCe|     Mandy|    Blake|  Male|jefferynoble@exam...|  (992)466-1305x4947|   2007-12-08|Scientist, clinic...|\n",
            "|   14|b759b74BD1dE80d|   Bridget|     Nash|Female|mercedes44@exampl...|       (216)627-8359|   2004-06-28|       Social worker|\n",
            "|   15|1F0B7D65A00DAF9|   Crystal|   Farmer|  Male|pmiranda@example.org|     +1-024-377-5391|   1992-03-09|Agricultural cons...|\n",
            "|   16|50Bb061cB30B461|    Thomas|   Knight|Female|braunpriscilla@ex...|     +1-360-880-0766|   2006-02-18|Sport and exercis...|\n",
            "|   17|D6dbA5308fEC4BC|   Maurice|   Rangel|  Male|sheenabanks@examp...|       (246)187-4969|   2004-08-20|Secretary/adminis...|\n",
            "|   18|311D775990f066d|     Frank|  Meadows|  Male| gbrewer@example.org|   429.965.3902x4447|   2008-09-16|Audiological scie...|\n",
            "|   19|7F7E1BAcb0C9AFf|     Alvin|     Paul|  Male|gilbertdonaldson@...|  219.436.0887x07551|   1949-05-12|Teacher, adult ed...|\n",
            "|   20|88473e15D5c3cD0|     Jared| Mitchell|Female| jcortez@example.com|     +1-958-849-6781|   1921-01-18|    Paediatric nurse|\n",
            "+-----+---------------+----------+---------+------+--------------------+--------------------+-------------+--------------------+\n",
            "only showing top 20 rows\n",
            "\n"
          ]
        }
      ]
    },
    {
      "cell_type": "code",
      "source": [
        "from pyspark.sql.functions import *\n",
        "from pyspark.sql.types import *\n",
        "y.groupBy('Sex').agg(countDistinct('User Id')).show()\n",
        "y.printSchema()\n",
        "y.describe()"
      ],
      "metadata": {
        "colab": {
          "base_uri": "https://localhost:8080/"
        },
        "id": "2v3_-mSgHWkF",
        "outputId": "779fc186-58de-4ea1-c3db-7a3125d54751"
      },
      "execution_count": 53,
      "outputs": [
        {
          "output_type": "stream",
          "name": "stdout",
          "text": [
            "+------+-----------------------+\n",
            "|   Sex|count(DISTINCT User Id)|\n",
            "+------+-----------------------+\n",
            "|Female|                     53|\n",
            "|  Male|                     47|\n",
            "+------+-----------------------+\n",
            "\n",
            "root\n",
            " |-- Index: string (nullable = true)\n",
            " |-- User Id: string (nullable = true)\n",
            " |-- First Name: string (nullable = true)\n",
            " |-- Last Name: string (nullable = true)\n",
            " |-- Sex: string (nullable = true)\n",
            " |-- Email: string (nullable = true)\n",
            " |-- Phone: string (nullable = true)\n",
            " |-- Date of birth: string (nullable = true)\n",
            " |-- Job Title: string (nullable = true)\n",
            "\n"
          ]
        },
        {
          "output_type": "execute_result",
          "data": {
            "text/plain": [
              "DataFrame[summary: string, Index: string, User Id: string, First Name: string, Last Name: string, Sex: string, Email: string, Phone: string, Date of birth: string, Job Title: string]"
            ]
          },
          "metadata": {},
          "execution_count": 53
        }
      ]
    },
    {
      "cell_type": "code",
      "source": [
        "y1=y.withColumn('Full Name', concat_ws(\" \",\"First Name\",\"Last Name\"))\n",
        "y1.show()"
      ],
      "metadata": {
        "colab": {
          "base_uri": "https://localhost:8080/"
        },
        "id": "yz3qLtEpKipG",
        "outputId": "bc99064f-1c73-40dc-d5b1-5598ee567c7c"
      },
      "execution_count": 73,
      "outputs": [
        {
          "output_type": "stream",
          "name": "stdout",
          "text": [
            "+-----+---------------+----------+---------+------+--------------------+--------------------+-------------+--------------------+----------------+\n",
            "|Index|        User Id|First Name|Last Name|   Sex|               Email|               Phone|Date of birth|           Job Title|       Full Name|\n",
            "+-----+---------------+----------+---------+------+--------------------+--------------------+-------------+--------------------+----------------+\n",
            "|    1|88F7B33d2bcf9f5|    Shelby|  Terrell|  Male|elijah57@example.net|001-084-906-7849x...|   1945-10-26|     Games developer|  Shelby Terrell|\n",
            "|    2|f90cD3E76f1A9b9|   Phillip|  Summers|Female|bethany14@example...|   214.112.6044x4913|   1910-03-24|      Phytotherapist| Phillip Summers|\n",
            "|    3|DbeAb8CcdfeFC2c|  Kristine|   Travis|  Male|bthompson@example...|        277.609.7938|   1992-07-02|           Homeopath| Kristine Travis|\n",
            "|    4|A31Bee3c201ef58|   Yesenia| Martinez|  Male|kaitlinkaiser@exa...|        584.094.6111|   2017-08-03|   Market researcher|Yesenia Martinez|\n",
            "|    5|1bA7A3dc874da3c|      Lori|     Todd|  Male|buchananmanuel@ex...|   689-207-3558x7233|   1938-12-01|  Veterinary surgeon|       Lori Todd|\n",
            "|    6|bfDD7CDEF5D865B|      Erin|      Day|  Male| tconner@example.org|001-171-649-9856x...|   2015-10-28|Waste management ...|        Erin Day|\n",
            "|    7|bE9EEf34cB72AF7| Katherine|     Buck|Female|conniecowan@examp...|+1-773-151-6685x4...|   1989-01-22|Intelligence analyst|  Katherine Buck|\n",
            "|    8|2EFC6A4e77FaEaC|   Ricardo|   Hinton|  Male|wyattbishop@examp...|001-447-699-7998x...|   1924-03-26|      Hydrogeologist|  Ricardo Hinton|\n",
            "|    9|baDcC4DeefD8dEB|      Dave|  Farrell|  Male| nmccann@example.net|  603-428-2429x27392|   2018-10-06|              Lawyer|    Dave Farrell|\n",
            "|   10|8e4FB470FE19bF0|    Isaiah|    Downs|  Male|virginiaterrell@e...|+1-511-372-1544x8206|   1964-09-20|      Engineer, site|    Isaiah Downs|\n",
            "|   11|BF0BbA03C29Bb3b|    Sheila|     Ross|Female|huangcathy@exampl...|        895.881.4746|   2008-03-20|Advertising accou...|     Sheila Ross|\n",
            "|   12|F738c69fB34E62E|     Stacy|   Newton|  Male|rayleroy@example.org|  710.673.3213x80335|   1980-10-20|       Warden/ranger|    Stacy Newton|\n",
            "|   13|C03fDADdAadAdCe|     Mandy|    Blake|  Male|jefferynoble@exam...|  (992)466-1305x4947|   2007-12-08|Scientist, clinic...|     Mandy Blake|\n",
            "|   14|b759b74BD1dE80d|   Bridget|     Nash|Female|mercedes44@exampl...|       (216)627-8359|   2004-06-28|       Social worker|    Bridget Nash|\n",
            "|   15|1F0B7D65A00DAF9|   Crystal|   Farmer|  Male|pmiranda@example.org|     +1-024-377-5391|   1992-03-09|Agricultural cons...|  Crystal Farmer|\n",
            "|   16|50Bb061cB30B461|    Thomas|   Knight|Female|braunpriscilla@ex...|     +1-360-880-0766|   2006-02-18|Sport and exercis...|   Thomas Knight|\n",
            "|   17|D6dbA5308fEC4BC|   Maurice|   Rangel|  Male|sheenabanks@examp...|       (246)187-4969|   2004-08-20|Secretary/adminis...|  Maurice Rangel|\n",
            "|   18|311D775990f066d|     Frank|  Meadows|  Male| gbrewer@example.org|   429.965.3902x4447|   2008-09-16|Audiological scie...|   Frank Meadows|\n",
            "|   19|7F7E1BAcb0C9AFf|     Alvin|     Paul|  Male|gilbertdonaldson@...|  219.436.0887x07551|   1949-05-12|Teacher, adult ed...|      Alvin Paul|\n",
            "|   20|88473e15D5c3cD0|     Jared| Mitchell|Female| jcortez@example.com|     +1-958-849-6781|   1921-01-18|    Paediatric nurse|  Jared Mitchell|\n",
            "+-----+---------------+----------+---------+------+--------------------+--------------------+-------------+--------------------+----------------+\n",
            "only showing top 20 rows\n",
            "\n"
          ]
        }
      ]
    },
    {
      "cell_type": "code",
      "source": [
        "y2=y1.drop('First Name', 'Last Name')\n",
        "y2.show()"
      ],
      "metadata": {
        "colab": {
          "base_uri": "https://localhost:8080/"
        },
        "id": "tdNi3qG1M7TP",
        "outputId": "4991c909-6f49-4c2c-93e8-bd422d84acca"
      },
      "execution_count": 74,
      "outputs": [
        {
          "output_type": "stream",
          "name": "stdout",
          "text": [
            "+-----+---------------+------+--------------------+--------------------+-------------+--------------------+----------------+\n",
            "|Index|        User Id|   Sex|               Email|               Phone|Date of birth|           Job Title|       Full Name|\n",
            "+-----+---------------+------+--------------------+--------------------+-------------+--------------------+----------------+\n",
            "|    1|88F7B33d2bcf9f5|  Male|elijah57@example.net|001-084-906-7849x...|   1945-10-26|     Games developer|  Shelby Terrell|\n",
            "|    2|f90cD3E76f1A9b9|Female|bethany14@example...|   214.112.6044x4913|   1910-03-24|      Phytotherapist| Phillip Summers|\n",
            "|    3|DbeAb8CcdfeFC2c|  Male|bthompson@example...|        277.609.7938|   1992-07-02|           Homeopath| Kristine Travis|\n",
            "|    4|A31Bee3c201ef58|  Male|kaitlinkaiser@exa...|        584.094.6111|   2017-08-03|   Market researcher|Yesenia Martinez|\n",
            "|    5|1bA7A3dc874da3c|  Male|buchananmanuel@ex...|   689-207-3558x7233|   1938-12-01|  Veterinary surgeon|       Lori Todd|\n",
            "|    6|bfDD7CDEF5D865B|  Male| tconner@example.org|001-171-649-9856x...|   2015-10-28|Waste management ...|        Erin Day|\n",
            "|    7|bE9EEf34cB72AF7|Female|conniecowan@examp...|+1-773-151-6685x4...|   1989-01-22|Intelligence analyst|  Katherine Buck|\n",
            "|    8|2EFC6A4e77FaEaC|  Male|wyattbishop@examp...|001-447-699-7998x...|   1924-03-26|      Hydrogeologist|  Ricardo Hinton|\n",
            "|    9|baDcC4DeefD8dEB|  Male| nmccann@example.net|  603-428-2429x27392|   2018-10-06|              Lawyer|    Dave Farrell|\n",
            "|   10|8e4FB470FE19bF0|  Male|virginiaterrell@e...|+1-511-372-1544x8206|   1964-09-20|      Engineer, site|    Isaiah Downs|\n",
            "|   11|BF0BbA03C29Bb3b|Female|huangcathy@exampl...|        895.881.4746|   2008-03-20|Advertising accou...|     Sheila Ross|\n",
            "|   12|F738c69fB34E62E|  Male|rayleroy@example.org|  710.673.3213x80335|   1980-10-20|       Warden/ranger|    Stacy Newton|\n",
            "|   13|C03fDADdAadAdCe|  Male|jefferynoble@exam...|  (992)466-1305x4947|   2007-12-08|Scientist, clinic...|     Mandy Blake|\n",
            "|   14|b759b74BD1dE80d|Female|mercedes44@exampl...|       (216)627-8359|   2004-06-28|       Social worker|    Bridget Nash|\n",
            "|   15|1F0B7D65A00DAF9|  Male|pmiranda@example.org|     +1-024-377-5391|   1992-03-09|Agricultural cons...|  Crystal Farmer|\n",
            "|   16|50Bb061cB30B461|Female|braunpriscilla@ex...|     +1-360-880-0766|   2006-02-18|Sport and exercis...|   Thomas Knight|\n",
            "|   17|D6dbA5308fEC4BC|  Male|sheenabanks@examp...|       (246)187-4969|   2004-08-20|Secretary/adminis...|  Maurice Rangel|\n",
            "|   18|311D775990f066d|  Male| gbrewer@example.org|   429.965.3902x4447|   2008-09-16|Audiological scie...|   Frank Meadows|\n",
            "|   19|7F7E1BAcb0C9AFf|  Male|gilbertdonaldson@...|  219.436.0887x07551|   1949-05-12|Teacher, adult ed...|      Alvin Paul|\n",
            "|   20|88473e15D5c3cD0|Female| jcortez@example.com|     +1-958-849-6781|   1921-01-18|    Paediatric nurse|  Jared Mitchell|\n",
            "+-----+---------------+------+--------------------+--------------------+-------------+--------------------+----------------+\n",
            "only showing top 20 rows\n",
            "\n"
          ]
        }
      ]
    },
    {
      "cell_type": "code",
      "source": [
        "y2_new=y2.withColumn(\"Expe\", col('5'))\n",
        "y2_new.show()"
      ],
      "metadata": {
        "colab": {
          "base_uri": "https://localhost:8080/",
          "height": 408
        },
        "id": "bDn9BpJ9WLXs",
        "outputId": "a548a76c-d3ac-4adc-d46b-fad1b2816533"
      },
      "execution_count": 87,
      "outputs": [
        {
          "output_type": "error",
          "ename": "AnalysisException",
          "evalue": "[UNRESOLVED_COLUMN.WITH_SUGGESTION] A column or function parameter with name `5` cannot be resolved. Did you mean one of the following? [`Sex`, `Email`, `Index`, `Phone`, `User Id`].;\n'Project [Index#948, User Id#949, Sex#952, Email#953, Phone#954, Date of birth#955, Job Title#956, Full Name#2466, '5 AS Expe#4070]\n+- Project [Index#948, User Id#949, Sex#952, Email#953, Phone#954, Date of birth#955, Job Title#956, Full Name#2466]\n   +- Project [Index#948, User Id#949, First Name#950, Last Name#951, Sex#952, Email#953, Phone#954, Date of birth#955, Job Title#956, concat_ws( , First Name#950, Last Name#951) AS Full Name#2466]\n      +- Relation [Index#948,User Id#949,First Name#950,Last Name#951,Sex#952,Email#953,Phone#954,Date of birth#955,Job Title#956] csv\n",
          "traceback": [
            "\u001b[0;31m---------------------------------------------------------------------------\u001b[0m",
            "\u001b[0;31mAnalysisException\u001b[0m                         Traceback (most recent call last)",
            "\u001b[0;32m<ipython-input-87-314cb2330380>\u001b[0m in \u001b[0;36m<cell line: 0>\u001b[0;34m()\u001b[0m\n\u001b[0;32m----> 1\u001b[0;31m \u001b[0my2_new\u001b[0m\u001b[0;34m=\u001b[0m\u001b[0my2\u001b[0m\u001b[0;34m.\u001b[0m\u001b[0mwithColumn\u001b[0m\u001b[0;34m(\u001b[0m\u001b[0;34m\"Expe\"\u001b[0m\u001b[0;34m,\u001b[0m \u001b[0mcol\u001b[0m\u001b[0;34m(\u001b[0m\u001b[0;34m'5'\u001b[0m\u001b[0;34m)\u001b[0m\u001b[0;34m)\u001b[0m\u001b[0;34m\u001b[0m\u001b[0;34m\u001b[0m\u001b[0m\n\u001b[0m\u001b[1;32m      2\u001b[0m \u001b[0my2_new\u001b[0m\u001b[0;34m.\u001b[0m\u001b[0mshow\u001b[0m\u001b[0;34m(\u001b[0m\u001b[0;34m)\u001b[0m\u001b[0;34m\u001b[0m\u001b[0;34m\u001b[0m\u001b[0m\n",
            "\u001b[0;32m/usr/local/lib/python3.11/dist-packages/pyspark/sql/dataframe.py\u001b[0m in \u001b[0;36mwithColumn\u001b[0;34m(self, colName, col)\u001b[0m\n\u001b[1;32m   5174\u001b[0m                 \u001b[0mmessage_parameters\u001b[0m\u001b[0;34m=\u001b[0m\u001b[0;34m{\u001b[0m\u001b[0;34m\"arg_name\"\u001b[0m\u001b[0;34m:\u001b[0m \u001b[0;34m\"col\"\u001b[0m\u001b[0;34m,\u001b[0m \u001b[0;34m\"arg_type\"\u001b[0m\u001b[0;34m:\u001b[0m \u001b[0mtype\u001b[0m\u001b[0;34m(\u001b[0m\u001b[0mcol\u001b[0m\u001b[0;34m)\u001b[0m\u001b[0;34m.\u001b[0m\u001b[0m__name__\u001b[0m\u001b[0;34m}\u001b[0m\u001b[0;34m,\u001b[0m\u001b[0;34m\u001b[0m\u001b[0;34m\u001b[0m\u001b[0m\n\u001b[1;32m   5175\u001b[0m             )\n\u001b[0;32m-> 5176\u001b[0;31m         \u001b[0;32mreturn\u001b[0m \u001b[0mDataFrame\u001b[0m\u001b[0;34m(\u001b[0m\u001b[0mself\u001b[0m\u001b[0;34m.\u001b[0m\u001b[0m_jdf\u001b[0m\u001b[0;34m.\u001b[0m\u001b[0mwithColumn\u001b[0m\u001b[0;34m(\u001b[0m\u001b[0mcolName\u001b[0m\u001b[0;34m,\u001b[0m \u001b[0mcol\u001b[0m\u001b[0;34m.\u001b[0m\u001b[0m_jc\u001b[0m\u001b[0;34m)\u001b[0m\u001b[0;34m,\u001b[0m \u001b[0mself\u001b[0m\u001b[0;34m.\u001b[0m\u001b[0msparkSession\u001b[0m\u001b[0;34m)\u001b[0m\u001b[0;34m\u001b[0m\u001b[0;34m\u001b[0m\u001b[0m\n\u001b[0m\u001b[1;32m   5177\u001b[0m \u001b[0;34m\u001b[0m\u001b[0m\n\u001b[1;32m   5178\u001b[0m     \u001b[0;32mdef\u001b[0m \u001b[0mwithColumnRenamed\u001b[0m\u001b[0;34m(\u001b[0m\u001b[0mself\u001b[0m\u001b[0;34m,\u001b[0m \u001b[0mexisting\u001b[0m\u001b[0;34m:\u001b[0m \u001b[0mstr\u001b[0m\u001b[0;34m,\u001b[0m \u001b[0mnew\u001b[0m\u001b[0;34m:\u001b[0m \u001b[0mstr\u001b[0m\u001b[0;34m)\u001b[0m \u001b[0;34m->\u001b[0m \u001b[0;34m\"DataFrame\"\u001b[0m\u001b[0;34m:\u001b[0m\u001b[0;34m\u001b[0m\u001b[0;34m\u001b[0m\u001b[0m\n",
            "\u001b[0;32m/usr/local/lib/python3.11/dist-packages/py4j/java_gateway.py\u001b[0m in \u001b[0;36m__call__\u001b[0;34m(self, *args)\u001b[0m\n\u001b[1;32m   1320\u001b[0m \u001b[0;34m\u001b[0m\u001b[0m\n\u001b[1;32m   1321\u001b[0m         \u001b[0manswer\u001b[0m \u001b[0;34m=\u001b[0m \u001b[0mself\u001b[0m\u001b[0;34m.\u001b[0m\u001b[0mgateway_client\u001b[0m\u001b[0;34m.\u001b[0m\u001b[0msend_command\u001b[0m\u001b[0;34m(\u001b[0m\u001b[0mcommand\u001b[0m\u001b[0;34m)\u001b[0m\u001b[0;34m\u001b[0m\u001b[0;34m\u001b[0m\u001b[0m\n\u001b[0;32m-> 1322\u001b[0;31m         return_value = get_return_value(\n\u001b[0m\u001b[1;32m   1323\u001b[0m             answer, self.gateway_client, self.target_id, self.name)\n\u001b[1;32m   1324\u001b[0m \u001b[0;34m\u001b[0m\u001b[0m\n",
            "\u001b[0;32m/usr/local/lib/python3.11/dist-packages/pyspark/errors/exceptions/captured.py\u001b[0m in \u001b[0;36mdeco\u001b[0;34m(*a, **kw)\u001b[0m\n\u001b[1;32m    183\u001b[0m                 \u001b[0;31m# Hide where the exception came from that shows a non-Pythonic\u001b[0m\u001b[0;34m\u001b[0m\u001b[0;34m\u001b[0m\u001b[0m\n\u001b[1;32m    184\u001b[0m                 \u001b[0;31m# JVM exception message.\u001b[0m\u001b[0;34m\u001b[0m\u001b[0;34m\u001b[0m\u001b[0m\n\u001b[0;32m--> 185\u001b[0;31m                 \u001b[0;32mraise\u001b[0m \u001b[0mconverted\u001b[0m \u001b[0;32mfrom\u001b[0m \u001b[0;32mNone\u001b[0m\u001b[0;34m\u001b[0m\u001b[0;34m\u001b[0m\u001b[0m\n\u001b[0m\u001b[1;32m    186\u001b[0m             \u001b[0;32melse\u001b[0m\u001b[0;34m:\u001b[0m\u001b[0;34m\u001b[0m\u001b[0;34m\u001b[0m\u001b[0m\n\u001b[1;32m    187\u001b[0m                 \u001b[0;32mraise\u001b[0m\u001b[0;34m\u001b[0m\u001b[0;34m\u001b[0m\u001b[0m\n",
            "\u001b[0;31mAnalysisException\u001b[0m: [UNRESOLVED_COLUMN.WITH_SUGGESTION] A column or function parameter with name `5` cannot be resolved. Did you mean one of the following? [`Sex`, `Email`, `Index`, `Phone`, `User Id`].;\n'Project [Index#948, User Id#949, Sex#952, Email#953, Phone#954, Date of birth#955, Job Title#956, Full Name#2466, '5 AS Expe#4070]\n+- Project [Index#948, User Id#949, Sex#952, Email#953, Phone#954, Date of birth#955, Job Title#956, Full Name#2466]\n   +- Project [Index#948, User Id#949, First Name#950, Last Name#951, Sex#952, Email#953, Phone#954, Date of birth#955, Job Title#956, concat_ws( , First Name#950, Last Name#951) AS Full Name#2466]\n      +- Relation [Index#948,User Id#949,First Name#950,Last Name#951,Sex#952,Email#953,Phone#954,Date of birth#955,Job Title#956] csv\n"
          ]
        }
      ]
    }
  ]
}